{
 "cells": [
  {
   "attachments": {},
   "cell_type": "markdown",
   "id": "b3293496",
   "metadata": {},
   "source": [
    "# Sentence Transformer"
   ]
  },
  {
   "cell_type": "code",
   "execution_count": null,
   "id": "addac9b9",
   "metadata": {},
   "outputs": [],
   "source": [
    "\"\"\"\n",
    "The system trains BERT (or any other transformer model like RoBERTa, DistilBERT etc.) on the SNLI + MultiNLI (AllNLI) dataset\n",
    "with softmax loss function. At every 1000 training steps, the model is evaluated on the\n",
    "STS benchmark dataset\n",
    "\n",
    "Usage:\n",
    "python training_nli.py\n",
    "\n",
    "OR\n",
    "python training_nli.py pretrained_transformer_model_name\n",
    "\"\"\"\n",
    "from torch.utils.data import DataLoader\n",
    "import math\n",
    "from sentence_transformers import models, losses\n",
    "from sentence_transformers import LoggingHandler, SentenceTransformer, util, InputExample\n",
    "from sentence_transformers.evaluation import EmbeddingSimilarityEvaluator\n",
    "import logging\n",
    "from datetime import datetime\n",
    "import sys\n",
    "import os\n",
    "import gzip\n",
    "import csv\n",
    "import pickle\n",
    "from tqdm import tqdm\n",
    "\n",
    "\n",
    "\n",
    "model = SentenceTransformer('/home/hoya/sentence-transformers-master/output/bert-base-uncased_finetuned')\n",
    "\n",
    "nli_dataset_path = '/home/hoya/sentence-transformers-master/Data/result.tsv'\n",
    "\n",
    "f = open(nli_dataset_path, 'r', encoding='utf-8')\n",
    "sent1 = ''\n",
    "embed = []\n",
    "sentence_set = []\n",
    "sentence_record = []\n",
    "\n",
    "for line in tqdm(f):\n",
    "\n",
    "    cond = (sent1 == line.strip().split('\\t')[0])\n",
    "\n",
    "\n",
    "    if cond:\n",
    "        sent2 = line.strip().split('\\t')[1]\n",
    "        embed2 = model.encode(sent2)\n",
    "\n",
    "        \n",
    "\n",
    "    else:\n",
    "        sent1 = line.strip().split('\\t')[0]\n",
    "        sent2 = line.strip().split('\\t')[1]\n",
    "        embed1 = model.encode(sent1)\n",
    "        embed2 = model.encode(sent2)      \n",
    "\n",
    "\n",
    "    sentence_set.append((sent1, sent2))\n",
    "    if sent1 not in sentence_record:\n",
    "        sentence_record.append(sent1)\n",
    "        embed.append((sent1,embed1))\n",
    "    if sent2 not in sentence_record:\n",
    "        sentence_record.append(sent2)\n",
    "        embed.append((sent2,embed2))\n",
    "\n",
    "\n",
    "\n",
    "\n",
    "        \n",
    "\n",
    "print('embedding done')\n",
    "\n",
    "with open('embed_file.pkl', 'wb') as f:\n",
    "    pickle.dump(embed, f)\n",
    "\n",
    "with open('sentence_set.pkl', 'wb') as f:\n",
    "    pickle.dump(sentence_set, f)\n",
    "\n"
   ]
  },
  {
   "attachments": {},
   "cell_type": "markdown",
   "id": "b7019b81",
   "metadata": {},
   "source": [
    "# Graph preprocess"
   ]
  },
  {
   "cell_type": "code",
   "execution_count": null,
   "id": "000e1533",
   "metadata": {},
   "outputs": [],
   "source": [
    "import numpy as np\n",
    "import pickle\n",
    "import torch\n",
    "import torch.nn.functional as F\n",
    "from torch.nn import Linear, Dropout\n",
    "from torch_geometric.nn import SAGEConv\n",
    "import torch_geometric as pyg\n",
    "from torch_geometric.loader import NeighborLoader\n",
    "from tqdm import tqdm\n",
    "\n",
    "\n",
    "\n",
    "with open('sentence_set.pkl', 'rb') as f:\n",
    "    sentence_set = pickle.load(f)\n",
    "\n",
    "with open('new_embed_file.pkl', 'rb') as f:\n",
    "    embed = pickle.load(f)\n",
    "\n",
    "\n",
    "\n",
    "sent_set = []\n",
    "word_set = []\n",
    "for sent, word in tqdm(sentence_set):\n",
    "    sent_set.append(sent)\n",
    "    word_set.append(word)\n",
    "\n",
    "sent_set = set(sent_set)\n",
    "word_set = set(word_set)"
   ]
  },
  {
   "cell_type": "code",
   "execution_count": null,
   "id": "43d13a65",
   "metadata": {},
   "outputs": [],
   "source": [
    "embed = []\n",
    "model = SentenceTransformer('/home/hoya/sentence-transformers-master/output/bert-base-uncased_finetuned')\n",
    "for sentence in tqdm(sentence_record):\n",
    "    embed1 = model.encode(sentence)\n",
    "    embed.append((sentence, embed1))"
   ]
  },
  {
   "attachments": {},
   "cell_type": "markdown",
   "id": "cb174729",
   "metadata": {},
   "source": [
    "## edge, node_feature"
   ]
  },
  {
   "cell_type": "code",
   "execution_count": null,
   "id": "d4e150a2",
   "metadata": {},
   "outputs": [],
   "source": [
    "sent_set = sent_set.union(word_set)\n",
    "\n",
    "sent2index = {}\n",
    "index2sent = {}\n",
    "for index, sent in tqdm(list(enumerate(sent_set))):\n",
    "    sent2index[sent] = index\n",
    "    index2sent[index] = sent\n",
    "\n",
    "with open('index2sent.pkl', 'wb') as f:\n",
    "    pickle.dump(index2sent,f)\n",
    "\n",
    "with open('sent2index.pkl', 'wb') as f:\n",
    "    pickle.dump(sent2index,f)\n",
    "\n",
    "edge_index = [[],[]]\n",
    "\n",
    "for sent, word in tqdm(sentence_set):\n",
    "    edge_index[0].append(sent2index[sent])\n",
    "    edge_index[1].append(sent2index[word])\n",
    "\n",
    "embed.sort(key=lambda x : sent2index[x[0]])\n",
    "\n",
    "x = np.array([x[1] for x in embed])\n",
    "\n",
    "x = torch.tensor(x)\n",
    "edge_index = torch.tensor(edge_index)\n"
   ]
  },
  {
   "attachments": {},
   "cell_type": "markdown",
   "id": "03fa23e6",
   "metadata": {},
   "source": [
    "# GraphSage modeling"
   ]
  },
  {
   "cell_type": "code",
   "execution_count": 21,
   "id": "d9ba9789",
   "metadata": {},
   "outputs": [],
   "source": [
    "import numpy as np\n",
    "\n",
    "import torch\n",
    "import torch.nn.functional as F\n",
    "from torch.nn import Linear, Dropout\n",
    "from torch_geometric.nn import SAGEConv\n",
    "import torch_geometric as pyg\n",
    "\n",
    "from torch_geometric.loader import NeighborLoader\n",
    "\n",
    "class GraphSAGE(torch.nn.Module):\n",
    "  \n",
    "    def __init__(self, dim_in, dim_h, dim_out):\n",
    "        super().__init__()\n",
    "        \n",
    "        self.in_fcn1 = Linear(dim_in, dim_in)\n",
    "        self.in_fcn2 = Linear(dim_in, dim_in)\n",
    "        \n",
    "        self.sage1 = SAGEConv(dim_in, dim_h)\n",
    "        self.sage2 = SAGEConv(dim_h, dim_out)\n",
    "        \n",
    "        self.out_fcn1 = Linear(dim_out, dim_out)\n",
    "        self.out_fcn2 = Linear(dim_out, dim_out)\n",
    "        \n",
    "    \n",
    "    def forward(self, x, edge_index):\n",
    "        h = self.in_fcn1(x)\n",
    "        h = torch.relu(h)\n",
    "        h = F.dropout(h, p=0.2, training=self.training)  \n",
    "        h = self.in_fcn2(h)\n",
    "        h = torch.relu(h)\n",
    "        \n",
    "        h = self.sage1(h, edge_index)\n",
    "        h = torch.relu(h)\n",
    "        h = F.dropout(h, p=0.2, training=self.training)\n",
    "        h = self.sage2(h, edge_index)\n",
    "        \n",
    "        h = self.out_fcn1(h)\n",
    "        h = torch.relu(h)\n",
    "        h = F.dropout(h, p=0.2, training=self.training)  \n",
    "        h = self.out_fcn2(h)\n",
    "        \n",
    "        return h\n",
    "\n",
    "\n",
    "def make_label(edge_index, label, device='cuda'):\n",
    "    label_tensor = torch.tensor([label]*edge_index.size()[1]).unsqueeze(dim=0).to(device)\n",
    "    res = torch.concat((edge_index, label_tensor), dim=0).T.to(device)\n",
    "    \n",
    "    return res"
   ]
  },
  {
   "cell_type": "code",
   "execution_count": null,
   "id": "5938891b",
   "metadata": {},
   "outputs": [],
   "source": [
    "whole_data = pyg.data.Data(x=torch.tensor(x), edge_index=torch.tensor(edge_index))\n",
    "\n",
    "whole_data.edge_index\n",
    "\n",
    "model = GraphSAGE(768,512,256)\n",
    "model.train()\n",
    "model.to('cuda')"
   ]
  },
  {
   "cell_type": "code",
   "execution_count": 23,
   "id": "d2c2b559",
   "metadata": {},
   "outputs": [],
   "source": [
    "from torch_geometric.loader import NeighborLoader\n",
    "from torch_geometric.utils import to_networkx, negative_sampling\n",
    "\n",
    "# Create batches with neighbor sampling\n",
    "train_loader = NeighborLoader(\n",
    "    whole_data,\n",
    "    num_neighbors=[16, 16],\n",
    "    batch_size=2**10,\n",
    "    shuffle=True\n",
    ")"
   ]
  },
  {
   "cell_type": "code",
   "execution_count": null,
   "id": "4aec3e2c",
   "metadata": {},
   "outputs": [],
   "source": [
    "from tqdm import tqdm\n",
    "\n",
    "mse = torch.nn.MSELoss()\n",
    "optimizer = torch.optim.Adam(model.parameters(), lr=5e-5, weight_decay=5e-4)\n",
    "neg_sample_num = 2\n",
    "\n",
    "loss_list = []\n",
    "for epoch in tqdm(range(1000)):\n",
    "    temp_loss = []\n",
    "    for cur_data in train_loader:\n",
    "        \n",
    "        \n",
    "        cur_data.x = cur_data.x.to('cuda')\n",
    "        cur_data.edge_index = cur_data.edge_index.to('cuda')\n",
    "        \n",
    "        cur_embedd = model(cur_data.x, cur_data.edge_index)\n",
    "\n",
    "\n",
    "        pos_label_edge = cur_data.edge_index\n",
    "        neg_label_edge = negative_sampling(cur_data.edge_index, num_neg_samples=cur_data.edge_index.size()[1]*neg_sample_num)\n",
    "\n",
    "        label_1 = make_label(pos_label_edge, 1)\n",
    "        label_0 = make_label(neg_label_edge, 0)\n",
    "        cur_label = torch.concat((label_1, label_0), dim=0)\n",
    "        \n",
    "        pos_loss = torch.log(torch.sigmoid(cur_embedd[label_1[:,0]].mul(cur_embedd[label_1[:,1]]).sum(dim=1))+1e-7)*-1\n",
    "        neg_loss = torch.log(torch.sigmoid(cur_embedd[label_0[:,0]].mul(cur_embedd[label_0[:,1]]).sum(dim=1)*-1)+1e-7)*-1\n",
    "        \n",
    "        loss = torch.concat((pos_loss, neg_loss), dim=0).mean()\n",
    "        temp_loss.append(loss.item())\n",
    "        \n",
    "        optimizer.zero_grad()\n",
    "        loss.backward()\n",
    "        optimizer.step()\n",
    "    \n",
    "    loss_list.append(sum(temp_loss)/len(temp_loss))\n",
    "\n",
    "        "
   ]
  },
  {
   "cell_type": "code",
   "execution_count": 25,
   "id": "f7f7993d",
   "metadata": {},
   "outputs": [
    {
     "data": {
      "image/png": "[encoded data removed]",
      "text/plain": [
       "<Figure size 432x288 with 1 Axes>"
      ]
     },
     "metadata": {
      "needs_background": "light"
     },
     "output_type": "display_data"
    }
   ],
   "source": [
    "import matplotlib.pyplot as plt\n",
    "import numpy as np\n",
    "\n",
    "plt.plot(loss_list)\n",
    "plt.savefig('loss_non.png')\n",
    "plt.show()"
   ]
  },
  {
   "attachments": {},
   "cell_type": "markdown",
   "id": "1d3eb87c",
   "metadata": {},
   "source": [
    "# Model save"
   ]
  },
  {
   "cell_type": "code",
   "execution_count": 26,
   "id": "cbfcf9e4",
   "metadata": {},
   "outputs": [],
   "source": [
    "model.to('cpu')\n",
    "model.eval()\n",
    "torch.save(model.state_dict(), './1000epoch_16nb_2hop.pth')\n",
    "\n",
    "embedding_array = model(whole_data.x, whole_data.edge_index).detach().numpy()\n",
    "np.save('./sentece_embedding_using_graph.npy', embedding_array)"
   ]
  },
  {
   "attachments": {},
   "cell_type": "markdown",
   "id": "16b053a1",
   "metadata": {},
   "source": [
    "# embedding check"
   ]
  },
  {
   "cell_type": "code",
   "execution_count": null,
   "id": "f40cac00",
   "metadata": {},
   "outputs": [],
   "source": [
    "embedding_array[sent2index[\"The performance of lithium–sulfur (Li–S) batteries is largely hindered by the shuttle effect caused by the dissolution of lithium polysulfides (LiPSs) and the sluggish reaction kinetics of LiPSs. Here, it is demonstrated that the nickel–cobalt double hydroxide (NiCo-DH) shells that encapsulate sulfur nanoparticles can play multiple roles in suppressing the shuttle effect and accelerating the redox kinetics of LiPSs by combining with graphene and carbon nanotubes to construct the conductive networks. The NiCo-DH shell that intimately contacts with sulfur physically confines the loss of sulfur and promotes the charge transfer and ion diffusion. More importantly, it can react with LiPSs to produce the surface-bound intermediates, which are able to anchor the soluble LiPSs and accelerate the redox kinetics. Such composite electrodes can load high contents of sulfur (>85 wt%) and the resulting Li–S battery exhibits a superior capacity (1348.1 mAh g−1 at 0.1 C), ultrahigh rate performance (697.7 mAh g−1 at 5 C), and ultralong cycle life (1500 cycles) with a decay rate of 0.015% per cycle.\"]]"
   ]
  },
  {
   "cell_type": "code",
   "execution_count": 28,
   "id": "949b2792",
   "metadata": {},
   "outputs": [],
   "source": [
    "with open('index2sent.pkl', 'rb') as f:\n",
    "    index2sent = pickle.load(f)\n",
    "\n",
    "with open('sent2index.pkl', 'rb') as f:\n",
    "    sent2index = pickle.load(f)\n",
    "\n",
    "def sim_sentence_reco(sentence, rec_num = 10):     # 원본 프로그램 번호, 근처 프로그램 갯수 측정\n",
    "    a = embedding_array[sent2index[sentence]]\n",
    "    b = np.arange(embedding_array.shape[0])\n",
    "    sim_score = np.zeros_like(b)\n",
    "    \n",
    "    for i in b:\n",
    "        vec = embedding_array[i]\n",
    "        sim_score[i]= np.linalg.norm(a-vec)   # 유클리디안 norm으로 거리 측정\n",
    "    max_ind = sim_score.argsort()\n",
    "    max_ind = max_ind[1:rec_num+1]  # 자기 자신은 제외\n",
    "    name = []\n",
    "    \n",
    "    for i in max_ind:\n",
    "        sent= index2sent[i]\n",
    "        name.append(sent)            \n",
    "    original_sentence = sentence\n",
    "\n",
    "    return name, original_sentence"
   ]
  },
  {
   "cell_type": "code",
   "execution_count": null,
   "id": "0931f424",
   "metadata": {},
   "outputs": [],
   "source": [
    "\n",
    "model1 = SentenceTransformer('/home/hoya/sentence-transformers-master/output/bert-base-uncased_finetuned')\n",
    "\n",
    "model1.encode(\"The performance of lithium–sulfur (Li–S) batteries is largely hindered by the shuttle effect caused by the dissolution of lithium polysulfides (LiPSs) and the sluggish reaction kinetics of LiPSs. Here, it is demonstrated that the nickel–cobalt double hydroxide (NiCo-DH) shells that encapsulate sulfur nanoparticles can play multiple roles in suppressing the shuttle effect and accelerating the redox kinetics of LiPSs by combining with graphene and carbon nanotubes to construct the conductive networks. The NiCo-DH shell that intimately contacts with sulfur physically confines the loss of sulfur and promotes the charge transfer and ion diffusion. More importantly, it can react with LiPSs to produce the surface-bound intermediates, which are able to anchor the soluble LiPSs and accelerate the redox kinetics. Such composite electrodes can load high contents of sulfur (>85 wt%) and the resulting Li–S battery exhibits a superior capacity (1348.1 mAh g−1 at 0.1 C), ultrahigh rate performance (697.7 mAh g−1 at 5 C), and ultralong cycle life (1500 cycles) with a decay rate of 0.015% per cycle.\")"
   ]
  },
  {
   "cell_type": "code",
   "execution_count": 43,
   "id": "7fbab935",
   "metadata": {},
   "outputs": [
    {
     "data": {
      "text/plain": [
       "(['Downstaging',\n",
       "  'Streptophyta',\n",
       "  'Ultracold',\n",
       "  'Borylene',\n",
       "  'trachea',\n",
       "  'Piezo2',\n",
       "  'Reporting',\n",
       "  'testingPhthalic',\n",
       "  'Phenyramidol',\n",
       "  'angiotensinamide'],\n",
       " 'cancer')"
      ]
     },
     "execution_count": 43,
     "metadata": {},
     "output_type": "execute_result"
    }
   ],
   "source": [
    "sim_sentence_reco(\"cancer\", 10)"
   ]
  },
  {
   "cell_type": "code",
   "execution_count": 46,
   "id": "557a05be",
   "metadata": {},
   "outputs": [
    {
     "data": {
      "text/plain": [
       "['heptahydrate',\n",
       " \"Magnetic racetrack devices are promising candidates for next-generation memories. These spintronic shift-register devices are formed from perpendicularly magnetized ferromagnet/heavy metal thin-film systems. Data are encoded in domain wall magnetic bits that have a chiral Néel structure that is stabilized by an interfacial Dzyaloshinskii–Moriya interaction. The bits are manipulated by spin currents generated from electrical currents that are passed through the heavy metal layers. Increased efficiency of the current-induced domain wall motion is a prerequisite for commercially viable racetrack devices. Here, significantly increased efficiency with substantially lower threshold current densities and enhanced domain wall velocities is demonstrated by the introduction of atomically thin 4d and 5d metal “dusting” layers at the interface between the lower magnetic layer of the racetrack (here cobalt) and platinum. The greatest efficiency is found for dusting layers of palladium and rhodium, just one monolayer thick, for which the domain wall's velocity is increased by up to a factor of 3.5. Remarkably, when the heavy metal layer is formed from the dusting layer material alone, the efficiency is rather reduced by an order of magnitude. The results point to the critical role of interface engineering for the development of efficient racetrack memory devices.\",\n",
       " 'The processing of triglyceride-rich lipoproteins (TRLs) in capillaries provides lipids for vital tissues, but our understanding of TRL metabolism is limited, in part because TRL processing and lipid movement have never been visualized. To investigate the movement of TRL-derived lipids in the heart, mice were given an injection of [ 2 H]triglyceride-enriched TRLs, and the movement of 2 H-labeled lipids across capillaries and into cardiomyocytes was examined by NanoSIMS. TRL processing and lipid movement in tissues were extremely rapid. Within 30 s, TRL-derived lipids appeared in the subendothelial spaces and in the lipid droplets and mitochondria of cardiomyocytes. Enrichment of 2 H in capillary endothelial cells was not greater than in cardiomyocytes, implying that endothelial cells may not be a control point for lipid movement into cardiomyocytes. Remarkably, a deficiency of the putative fatty acid transport protein CD36, which is expressed highly in capillary endothelial cells, did not impede entry of TRL-derived lipids into cardiomyocytes. He et al. used NanoSIMS to visualize the movement of triglyceride-rich lipoprotein (TRL)-derived lipids in the heart. TRL-derived lipids moved across endothelial cells and into cardiomyocyte mitochondria and lipid droplets within seconds. Also, loss of CD36 did not impede entry of TRL-derived lipids into cardiomyocytes.',\n",
       " 'telluride',\n",
       " 'SOX10',\n",
       " 'hexadecanoic',\n",
       " 'sulfideBergapten',\n",
       " 'The performance of lithium–sulfur (Li–S) batteries is largely hindered by the shuttle effect caused by the dissolution of lithium polysulfides (LiPSs) and the sluggish reaction kinetics of LiPSs. Here, it is demonstrated that the nickel–cobalt double hydroxide (NiCo-DH) shells that encapsulate sulfur nanoparticles can play multiple roles in suppressing the shuttle effect and accelerating the redox kinetics of LiPSs by combining with graphene and carbon nanotubes to construct the conductive networks. The NiCo-DH shell that intimately contacts with sulfur physically confines the loss of sulfur and promotes the charge transfer and ion diffusion. More importantly, it can react with LiPSs to produce the surface-bound intermediates, which are able to anchor the soluble LiPSs and accelerate the redox kinetics. Such composite electrodes can load high contents of sulfur (>85 wt%) and the resulting Li–S battery exhibits a superior capacity (1348.1 mAh g−1 at 0.1 C), ultrahigh rate performance (697.7 mAh g−1 at 5 C), and ultralong cycle life (1500 cycles) with a decay rate of 0.015% per cycle.',\n",
       " 'Coronavirus disease 2019 (COVID-19) patients with pre-existing cardiovascular disease (CVD) or with cardiovascular complications have a higher risk of mortality. The main cardiovascular complications of COVID-19 include acute cardiac injury, acute myocardial infarction (AMI), myocarditis, arrhythmia, heart failure, shock, and venous thromboembolism (VTE)/pulmonary embolism (PE). COVID-19 can cause cardiovascular complications or deterioration of coexisting CVD through direct or indirect mechanisms, including viral toxicity, dysregulation of the renin–angiotensin–aldosterone system (RAAS), endothelial cell damage and thromboinflammation, cytokine storm, and oxygen supply–demand mismatch. We systematically review cardiovascular manifestations, histopathology, and mechanisms of COVID-19, to help to formulate future research goals and facilitate the development of therapeutic management strategies.',\n",
       " 'DMH']"
      ]
     },
     "execution_count": 46,
     "metadata": {},
     "output_type": "execute_result"
    }
   ],
   "source": [
    "list(sent2index.keys())[:10]"
   ]
  },
  {
   "cell_type": "code",
   "execution_count": 47,
   "id": "1db143cb",
   "metadata": {},
   "outputs": [
    {
     "data": {
      "text/plain": [
       "([\"Background: The chaperone ClpB, a bacterial protein, is a conformational antigen-mimetic of α-melanocyte-stimulating hormone (α-MSH) implicated in body weight regulation in mice. We here investigated the potential associations of gut bacterial ClpB-like gene function with obesity status and gut microbiota in humans. Results: Gut microbiota ClpB KEGG function was negatively associated with body mass index, waist circumference, and total fat mass (DEXA). The relative abundance (RA) of several phyla and families directly associated with ClpB was decreased in subjects with obesity. Specifically, the RA of Rikenellaceae, Clostridiaceae and not assigned Firmicutes were lower in subjects with obesity and positively associated with gut bacterial ClpB-like gene function (not assigned Firmicutes (r = 0.405, FDR = 2.93 × 10-2), Rikenellaceae (r = 0.217, FDR = 0.031), and Clostridiaceae (r = 0.239, FDR = 0.017)). The gut bacterial ClpB-like gene function was also linked to specific plasma metabolites (hippuric acid and 3-indolepropionic acid) and fecal lupeol. The α-MSH-like epitope similar to that of Escherichia coli ClpB was also identified in some sequences of those bacterial families. After fecal transplantation from humans to mice, the families that more contributed to ClpB-like gene function in humans were also associated with ClpB-like gene function in mice after adjusting for the donor's body mass index (not assigned Firmicutes (r = 0.621, p = 0.003), Prevotellaceae (r = 0.725, p = 4.1 × 10-7), Rikenellaceae (r = 0.702, p = 3.9 × 10-4), and Ruminococcaceae (r = 0.526, p = 0.014)). Clostridiaceae (r = - 0.445, p = 0.038) and Prevotellaceae RA (r = - 0.479, p = 0.024) and were also negatively associated with weight gain in mice. The absolute abundance (AA) of Prevotellaceae in mice was also positively associated with the gut bacterial ClpB-like gene function in mice. DESeq2 identified species of Prevotellaceae, both negatively associated with mice' weight gain and positively with gut bacterial ClpB-like gene function. Conclusions: In summary, gut bacterial ClpB-like gene function is associated with obesity status, a specific gut microbiota composition and a plasma metabolomics profile in humans that could be partially transplanted to mice. [MediaObject not available: see fulltext.]\",\n",
       "  'Cubic CsPbI3 perovskite quantum dots (PQDs) with ideal optoelectronic properties are promising materials for solution-processed photovoltaics. However, their phase stability suffers from the weakly bound surface ligands. Here, we report the adoption of p-mercaptopyridine ligand post-treatment on PQDs and obtained enhanced electronic coupling and cubic phase robustness in comparison with the treatment using analogous o-mercaptopyridine and pyridine ligands. As a result, CsPbI3 PQDs solar cells achieved an efficiency of 14.25%. More importantly, the device stability was drastically improved, showing decent efficiency after storage under ambient conditions for ∼70 days. We revealed that tuning of the anchoring position can facilely enhance the ligand binding strength and surface coverage, providing efficient ways to significantly improve the performance and stability of PQD-based optoelectronic devices. Copyright',\n",
       "  'Ischemic heart disease is the leading cause of death worldwide. Myocardial infarction results in an irreversible loss of cardiomyocytes with subsequent adverse remodeling and heart failure. Identifying new sources for cardiomyocytes and promoting their formation represents a goal of cardiac biology and regenerative medicine. Within the past decade, many types of putative cardiac stem cells (CSCs) have been reported to regenerate the injured myocardium by differentiating into new cardiomyocytes. Some of these CSCs have been translated from bench to bed with reported therapeutic effectiveness. However, recent basic research studies on stem cell tracing have begun to question their fundamental biology and mechanisms of action, raising serious concerns over the myogenic potential of CSCs. We review the history of different types of CSCs within the past decade and provide an update of recent cell tracing studies that have challenged the origin and existence of CSCs. In addition to the potential role of CSCs in heart regeneration, proliferation of preexisting cardiomyocytes has recently gained more attention. This review will also evaluate the methodologic and technical aspects of past and current studies on CSCs and cardiomyocyte proliferation, with emphasis on technical strengths, advantages, and potential limitations of research approaches. While our understanding of cardiomyocyte generation and regeneration continues to evolve, it is important to address the shortcomings and inaccuracies in this field. This is best achieved by embracing technological advancements and improved methods to label single cardiomyocytes/progenitors and accurately investigate their developmental potential and fate/lineage commitment.',\n",
       "  'The exclusion of other chronic liver diseases including “excess” alcohol intake has until now been necessary to establish a diagnosis of metabolic dysfunction-associated fatty liver disease (MAFLD). However, given our current understanding of the pathogenesis of MAFLD and its rising prevalence, “positive criteria” to diagnose the disease are required. In this work, a panel of international experts from 22 countries propose a new definition for the diagnosis of MAFLD that is both comprehensive and simple, and is independent of other liver diseases. The criteria are based on evidence of hepatic steatosis, in addition to one of the following three criteria, namely overweight/obesity, presence of type 2 diabetes mellitus, or evidence of metabolic dysregulation. We propose that disease assessment and stratification of severity should extend beyond a simple dichotomous classification to steatohepatitis vs. non-steatohepatitis. The group also suggests a set of criteria to define MAFLD-associated cirrhosis and proposes a conceptual framework to consider other causes of fatty liver disease. Finally, we bring clarity to the distinction between diagnostic criteria and inclusion criteria for research studies and clinical trials. Reaching consensus on the criteria for MAFLD will help unify the terminology (e.g. for ICD-coding), enhance the legitimacy of clinical practice and clinical trials, improve clinical care and move the clinical and scientific field of liver research forward.',\n",
       "  'Effective countermeasures against the recent emergence and rapid expansion of the 2019 novel coronavirus (SARS-CoV-2) require the development of data and tools to understand and monitor its spread and immune responses to it. However, little information is available about the targets of immune responses to SARS-CoV-2. We used the Immune Epitope Database and Analysis Resource (IEDB) to catalog available data related to other coronaviruses. This includes SARS-CoV, which has high sequence similarity to SARS-CoV-2 and is the best-characterized coronavirus in terms of epitope responses. We identified multiple specific regions in SARS-CoV-2 that have high homology to the SARS-CoV virus. Parallel bioinformatic predictions identified a priori potential B and T cell epitopes for SARS-CoV-2. The independent identification of the same regions using two approaches reflects the high probability that these regions are promising targets for immune recognition of SARS-CoV-2. These predictions can facilitate effective vaccine design against this virus of high priority.',\n",
       "  'Repeat antigens, such as the Plasmodium falciparum circumsporozoite protein (PfCSP), use both sequence degeneracy and structural diversity to evade the immune response. A few PfCSP-directed antibodies have been identified that are effective at preventing malaria infection, including CIS43, but how these repeat-targeting antibodies might be improved has been unclear. Here, we engineered a humanized mouse model in which B cells expressed inferred human germline CIS43 (iGL-CIS43) B cell receptors and used both vaccination and bioinformatic analysis to obtain variant CIS43 antibodies with improved protective capacity. One such antibody, iGL-CIS43.D3, was significantly more potent than the current best-in-class PfCSP-directed antibody. We found that vaccination with a junctional epitope peptide was more effective than full-length PfCSP at recruiting iGL-CIS43 B cells to germinal centers. Structure-function analysis revealed multiple somatic hypermutations that combinatorically improved protection. This mouse model can thus be used to understand vaccine immunogens and to develop highly potent anti-malarial antibodies.',\n",
       "  'Translation of problematic mRNA sequences induces ribosome stalling, triggering quality-control events, including ribosome rescue and nascent polypeptide degradation. To define the timing and regulation of these processes, we developed a SunTag-based reporter to monitor translation of a problematic sequence (poly[A]) in real time on single mRNAs. Although poly(A)-containing mRNAs undergo continuous translation over the timescale of minutes to hours, ribosome load is increased by ∼3-fold compared to a control, reflecting long queues of ribosomes extending far upstream of the stall. We monitor the resolution of these queues in real time and find that ribosome rescue is very slow compared to both elongation and termination. Modulation of pause strength, collision frequency, and the collision sensor ZNF598 reveals how the dynamics of ribosome collisions and their recognition facilitate selective targeting for quality control. Our results establish that slow clearance of stalled ribosomes allows cells to distinguish between transient and deleterious stalls.',\n",
       "  'Perovskite-based light-emitting diodes (PeLEDs) have exhibited promising potential; however, their operational lifetimes are far from expectation. The large bias of the device during operation has been demonstrated as one of main reasons for accelerated device failure. To mitigate such a predicament, interfacial Auger effect (IAE) assisted sub-bandgap voltage electroluminescence (EL) is a potential pathway to decrease the electric field intensity in each functional layer. However, the properties of a desirable IAE are still poorly understood. Herein, the underlying mechanism of IAE based on the injection characteristics of interfacial minority carriers at the Auger effect interface is investigated. Consequently, the prerequisites and the secondary conditions for the realization of IAE are proposed. Taking advantage of IAE assisted EL, the fabricated PeLEDs exhibit ultralow operational voltage, ignorable roll-off, and improved operational stability. The findings in this work not only pave the way toward a feasible approach to enhance the stability of PeLEDs, but also highlight the potential of sub-bandgap voltage EL in future display and lighting applications, especially in series circuits and tandem structures.',\n",
       "  'Chronic high-thoracic and cervical spinal cord injury (SCI) results in a complex phenotype of cardiovascular consequences, including impaired left ventricular (LV) contractility. Here, we aim to determine whether such dysfunction manifests immediately post-injury, and if so, whether correcting impaired contractility can improve spinal cord oxygenation (SCO2), blood flow (SCBF) and metabolism. Using a porcine model of T2 SCI, we assess LV end-systolic elastance (contractility) via invasive pressure-volume catheterization, monitor intraparenchymal SCO2 and SCBF with fiberoptic oxygen sensors and laser-Doppler flowmetry, respectively, and quantify spinal cord metabolites with microdialysis. We demonstrate that high-thoracic SCI acutely impairs cardiac contractility and substantially reduces SCO2 and SCBF within the first hours post-injury. Utilizing the same model, we next show that augmenting LV contractility with the β-agonist dobutamine increases SCO2 and SCBF more effectively than vasopressor therapy, whilst also mitigating increased anaerobic metabolism and hemorrhage in the injured cord. Finally, in pigs with T2 SCI survived for 12 weeks post-injury, we confirm that acute hemodynamic management with dobutamine appears to preserve cardiac function and improve hemodynamic outcomes in the chronic setting. Our data support that cardio-centric hemodynamic management represents an advantageous alternative to the current clinical standard of vasopressor therapy for acute traumatic SCI.',\n",
       "  'A new approach to determine the importance of band potential by comparing two different electron charge transfer mechanism, via Z-scheme and type-II heterojunction. Through microwave hydrothermal (MWH) treatment and subsequent thermal polycondensation, the released ammonia gas from the formation of oxidized GCN simultaneously reducing the surface of TiO2 (designated as mwh-CNTO), hence creating a sub-gap state between the interface of these two catalysts. Compared to pristine photocatalysts, mwh-CNTO-0.1 (0.1 g TiO2 with 6 g melamine) has shown superior photocatalytic activities (between 6 to 34-folds) under monochromatic LED (400 nm) and natural sunlight. Since TiO2 in the composite cannot be activated under LED, the bands alignment from type-II heterojunction decreases the overall band potential, resulting in mainly ·O2− (anionic) generated. Consequently, non-charged BPA was effectively degraded with a kinetic rate constant of 0.0310 min–1, while negatively charged ATZ had much lower rate constant (0.0043 min–1) due to their repulsive properties. In contrast, natural sunlight (full spectrum) could not only activate both TiO2 and GCN of mwh-CNTO-0.1, but also induce Z-scheme mechanism via driving the photogenerated electrons (TiO2) through the created sub-gap state and ultimately recombining at valence band (VB) of GCN. As proven by detection of DMPO-·OH, scavenging tests and DFT modeling, this scheme effectively degraded both BPA (0.0379 min–1) and ATZ (0.0474 min–1) owing to the VB position of TiO2 being maintained to generate non-selective ·OH. Overall, in comparison to other studies, the proposed Z-scheme on mwh-CNTO-0.1 had much higher energy efficiencies for BPA (8.2 × 10–3 min–1 W–1) and ATZ removal (1.0 × 10–2 min–1 W–1) under natural sunlight.'],\n",
       " 'The performance of lithium–sulfur (Li–S) batteries is largely hindered by the shuttle effect caused by the dissolution of lithium polysulfides (LiPSs) and the sluggish reaction kinetics of LiPSs. Here, it is demonstrated that the nickel–cobalt double hydroxide (NiCo-DH) shells that encapsulate sulfur nanoparticles can play multiple roles in suppressing the shuttle effect and accelerating the redox kinetics of LiPSs by combining with graphene and carbon nanotubes to construct the conductive networks. The NiCo-DH shell that intimately contacts with sulfur physically confines the loss of sulfur and promotes the charge transfer and ion diffusion. More importantly, it can react with LiPSs to produce the surface-bound intermediates, which are able to anchor the soluble LiPSs and accelerate the redox kinetics. Such composite electrodes can load high contents of sulfur (>85 wt%) and the resulting Li–S battery exhibits a superior capacity (1348.1 mAh g−1 at 0.1 C), ultrahigh rate performance (697.7 mAh g−1 at 5 C), and ultralong cycle life (1500 cycles) with a decay rate of 0.015% per cycle.')"
      ]
     },
     "execution_count": 47,
     "metadata": {},
     "output_type": "execute_result"
    }
   ],
   "source": [
    "sim_sentence_reco(\"The performance of lithium–sulfur (Li–S) batteries is largely hindered by the shuttle effect caused by the dissolution of lithium polysulfides (LiPSs) and the sluggish reaction kinetics of LiPSs. Here, it is demonstrated that the nickel–cobalt double hydroxide (NiCo-DH) shells that encapsulate sulfur nanoparticles can play multiple roles in suppressing the shuttle effect and accelerating the redox kinetics of LiPSs by combining with graphene and carbon nanotubes to construct the conductive networks. The NiCo-DH shell that intimately contacts with sulfur physically confines the loss of sulfur and promotes the charge transfer and ion diffusion. More importantly, it can react with LiPSs to produce the surface-bound intermediates, which are able to anchor the soluble LiPSs and accelerate the redox kinetics. Such composite electrodes can load high contents of sulfur (>85 wt%) and the resulting Li–S battery exhibits a superior capacity (1348.1 mAh g−1 at 0.1 C), ultrahigh rate performance (697.7 mAh g−1 at 5 C), and ultralong cycle life (1500 cycles) with a decay rate of 0.015% per cycle.\")"
   ]
  }
 ],
 "metadata": {
  "kernelspec": {
   "display_name": "base",
   "language": "python",
   "name": "python3"
  },
  "language_info": {
   "codemirror_mode": {
    "name": "ipython",
    "version": 3
   },
   "file_extension": ".py",
   "mimetype": "text/x-python",
   "name": "python",
   "nbconvert_exporter": "python",
   "pygments_lexer": "ipython3",
   "version": "3.9.12 (main, Apr  4 2022, 05:22:27) [MSC v.1916 64 bit (AMD64)]"
  },
  "vscode": {
   "interpreter": {
    "hash": "1e0bc1ac078542527bdaa1a898c1216e44ec33c3811a6d47bd4c861bab34e142"
   }
  }
 },
 "nbformat": 4,
 "nbformat_minor": 5
}
